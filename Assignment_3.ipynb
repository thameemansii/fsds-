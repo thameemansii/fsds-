{
 "cells": [
  {
   "cell_type": "markdown",
   "id": "03f1dcd7",
   "metadata": {},
   "source": [
    "1. Why are functions advantageous to have in your programs?\n",
    "\n",
    "Functions allows us to run multiple times for same tasks,we can break longer piece of code into smaller pieces of code."
   ]
  },
  {
   "cell_type": "markdown",
   "id": "182bf9c8",
   "metadata": {},
   "source": [
    "2. When does the code in a function run: when it's specified or when it's called?\n",
    "    \n",
    "    \n",
    "Functions run ,when its called."
   ]
  },
  {
   "cell_type": "markdown",
   "id": "97b23af0",
   "metadata": {},
   "source": [
    "3. What statement creates a function?\n",
    "\n",
    "defining the function,and assigning name to it\n",
    "\n",
    "\n",
    "for.ex:def hello():\n",
    "          pass"
   ]
  },
  {
   "cell_type": "markdown",
   "id": "f4b4d5f8",
   "metadata": {},
   "source": [
    "4. What is the difference between a function and a function call?\n",
    "\n",
    "function contains definition ,name,body of the function\n",
    "\n",
    "function call-which calls the function\n"
   ]
  },
  {
   "cell_type": "markdown",
   "id": "cf3176f7",
   "metadata": {},
   "source": [
    "5. How many global scopes are there in a Python program? How many local scopes?\n",
    "\n",
    "global scope is one,it is created at the start of the program and gets destroyed at the termination of the program.\n",
    "\n",
    "local scopes can be created for each function,when funcction terminates local scope also terminates."
   ]
  },
  {
   "cell_type": "markdown",
   "id": "e3799d5a",
   "metadata": {},
   "source": [
    "6. What happens to variables in a local scope when the function call returns?\n",
    "\n",
    "variables in local scope forgotten,local scope will be destroyed."
   ]
  },
  {
   "cell_type": "markdown",
   "id": "9757ccac",
   "metadata": {},
   "source": [
    "7. What is the concept of a return value? Is it possible to have a return value in an expression?\n",
    "\n",
    "return value can be used inside function,it sends the function results back to the caller\n",
    "\n",
    "yes,it is possible to have a return value in expression\n",
    "\n",
    "def fun_12():\n",
    "\n",
    "return 45\n",
    "\n",
    "fun_12()\n",
    "\n",
    "o/p:45"
   ]
  },
  {
   "cell_type": "markdown",
   "id": "5d5c53e7",
   "metadata": {},
   "source": [
    "8. If a function does not have a return statement, what is the return value of a call to that function?\n",
    "\n",
    "None will be the return value"
   ]
  },
  {
   "cell_type": "markdown",
   "id": "c76a3540",
   "metadata": {},
   "source": [
    "9. How do you make a function variable refer to the global variable?\n",
    "\n",
    "we can use global keyword to the variable in a function"
   ]
  },
  {
   "cell_type": "markdown",
   "id": "c16d5b51",
   "metadata": {},
   "source": [
    "10. What is the data type of None?\n",
    "\n",
    "print function has None type"
   ]
  },
  {
   "cell_type": "markdown",
   "id": "e46adc70",
   "metadata": {},
   "source": [
    "11.What does the sentence import areallyourpetsnamederic do?\n",
    "\n",
    "Module Name--areallyourpetsnamederic\n",
    "it import the module,as executed this module does not found "
   ]
  },
  {
   "cell_type": "markdown",
   "id": "88f2a12d",
   "metadata": {},
   "source": [
    "12. If you had a bacon() feature in a spam module, what would you call it after importing spam?\n",
    "\n",
    "import spam\n",
    "\n",
    "spam.bacon()"
   ]
  },
  {
   "cell_type": "markdown",
   "id": "a22623c6",
   "metadata": {},
   "source": [
    "13. What can you do to save a programme from crashing if it encounters an error?\n",
    "\n",
    "write the code inside try block,we can use exceptions to avoid errors"
   ]
  },
  {
   "cell_type": "markdown",
   "id": "c3b9838b",
   "metadata": {},
   "source": [
    "14. What is the purpose of the try clause? What is the purpose of the except clause?\n",
    "\n",
    "try block executes the try block code,which might contain errors.\n",
    "\n",
    "except block handles the exceptions,which occur in try block."
   ]
  }
 ],
 "metadata": {
  "kernelspec": {
   "display_name": "Python 3 (ipykernel)",
   "language": "python",
   "name": "python3"
  },
  "language_info": {
   "codemirror_mode": {
    "name": "ipython",
    "version": 3
   },
   "file_extension": ".py",
   "mimetype": "text/x-python",
   "name": "python",
   "nbconvert_exporter": "python",
   "pygments_lexer": "ipython3",
   "version": "3.9.12"
  }
 },
 "nbformat": 4,
 "nbformat_minor": 5
}

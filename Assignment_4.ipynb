{
 "cells": [
  {
   "cell_type": "markdown",
   "id": "4351a30b",
   "metadata": {},
   "source": [
    "1. What exactly is []?"
   ]
  },
  {
   "cell_type": "markdown",
   "id": "8a3848b4",
   "metadata": {},
   "source": [
    "Square brackets are used for list.In list, we store elements of heterogeneous data.List is also an immutable data type. "
   ]
  },
  {
   "cell_type": "markdown",
   "id": "80190a3b",
   "metadata": {},
   "source": [
    " 2. In a list of values stored in a variable called spam, how would you assign the value &#39;hello&#39; as the third value? (Assume [2, 4, 6, 8, 10] are in spam.)"
   ]
  },
  {
   "cell_type": "code",
   "execution_count": 5,
   "id": "1324162a",
   "metadata": {},
   "outputs": [],
   "source": [
    "spam=[2, 4, 6, 8, 10]\n",
    "spam.insert(2,'hello')"
   ]
  },
  {
   "cell_type": "code",
   "execution_count": 6,
   "id": "be919ff0",
   "metadata": {},
   "outputs": [
    {
     "data": {
      "text/plain": [
       "[2, 4, 'hello', 6, 8, 10]"
      ]
     },
     "execution_count": 6,
     "metadata": {},
     "output_type": "execute_result"
    }
   ],
   "source": [
    "spam"
   ]
  },
  {
   "cell_type": "markdown",
   "id": "cc10d3e7",
   "metadata": {},
   "source": [
    "3. What is the value of spam[int(int(&#39;3&#39; * 2) / 11)]?"
   ]
  },
  {
   "cell_type": "markdown",
   "id": "f9188da8",
   "metadata": {},
   "source": [
    "spam=[2, 4, 'hello', 6, 8, 10,&#39;a&#39;, &#39;b&#39;, &#39;c&#39;, &#39;d&#39;]"
   ]
  },
  {
   "cell_type": "code",
   "execution_count": 18,
   "id": "a9e44cfd",
   "metadata": {},
   "outputs": [
    {
     "data": {
      "text/plain": [
       "6"
      ]
     },
     "execution_count": 18,
     "metadata": {},
     "output_type": "execute_result"
    }
   ],
   "source": [
    "spam=[2, 4, 'hello', 6, 8, 10,'a', 'b', 'c', 'd']\n",
    "spam[int(int('3' * 2) / 11)]"
   ]
  },
  {
   "cell_type": "markdown",
   "id": "3bafd003",
   "metadata": {},
   "source": [
    "4. What is the value of spam[-1]?"
   ]
  },
  {
   "cell_type": "code",
   "execution_count": 19,
   "id": "8b202a3d",
   "metadata": {},
   "outputs": [
    {
     "data": {
      "text/plain": [
       "'d'"
      ]
     },
     "execution_count": 19,
     "metadata": {},
     "output_type": "execute_result"
    }
   ],
   "source": [
    "spam[-1]"
   ]
  },
  {
   "cell_type": "markdown",
   "id": "6c101ad6",
   "metadata": {},
   "source": [
    "5. What is the value of spam[:2]?"
   ]
  },
  {
   "cell_type": "code",
   "execution_count": 20,
   "id": "669abafe",
   "metadata": {},
   "outputs": [
    {
     "data": {
      "text/plain": [
       "[2, 4]"
      ]
     },
     "execution_count": 20,
     "metadata": {},
     "output_type": "execute_result"
    }
   ],
   "source": [
    "spam[:2]"
   ]
  },
  {
   "cell_type": "markdown",
   "id": "25500560",
   "metadata": {},
   "source": [
    "Let&#39;s pretend bacon has the list [3.14, &#39;cat,&#39; 11, &#39;cat,&#39; True] for the next three questions."
   ]
  },
  {
   "cell_type": "markdown",
   "id": "e21072d8",
   "metadata": {},
   "source": [
    "6. What is the value of bacon.index(&#39;cat&#39;)?"
   ]
  },
  {
   "cell_type": "code",
   "execution_count": 33,
   "id": "70da9846",
   "metadata": {},
   "outputs": [
    {
     "data": {
      "text/plain": [
       "1"
      ]
     },
     "execution_count": 33,
     "metadata": {},
     "output_type": "execute_result"
    }
   ],
   "source": [
    "bacon = [3.14,'cat', 11, 'cat', True]\n",
    "bacon.index('cat')"
   ]
  },
  {
   "cell_type": "markdown",
   "id": "4779ee82",
   "metadata": {},
   "source": [
    "7. How does bacon.append(99) change the look of the list value in bacon?\n"
   ]
  },
  {
   "cell_type": "code",
   "execution_count": 34,
   "id": "7ff44241",
   "metadata": {},
   "outputs": [
    {
     "data": {
      "text/plain": [
       "[3.14, 'cat', 11, 'cat', True, 99]"
      ]
     },
     "execution_count": 34,
     "metadata": {},
     "output_type": "execute_result"
    }
   ],
   "source": [
    "bacon.append(99)#append function adds 99 at the end of the list\n",
    "bacon"
   ]
  },
  {
   "cell_type": "markdown",
   "id": "ffb6f8ee",
   "metadata": {},
   "source": [
    "8. How does bacon.remove(&#39;cat&#39;) change the look of the list in bacon?"
   ]
  },
  {
   "cell_type": "code",
   "execution_count": 35,
   "id": "44eb9b14",
   "metadata": {},
   "outputs": [
    {
     "data": {
      "text/plain": [
       "[3.14, 11, 'cat', True, 99]"
      ]
     },
     "execution_count": 35,
     "metadata": {},
     "output_type": "execute_result"
    }
   ],
   "source": [
    "bacon.remove('cat')#it removes the 1st index value 'cat'.as it appears first in the loop.\n",
    "bacon"
   ]
  },
  {
   "cell_type": "markdown",
   "id": "de0f793f",
   "metadata": {},
   "source": [
    "9. What are the list concatenation and list replication operators?"
   ]
  },
  {
   "cell_type": "markdown",
   "id": "63f6e31d",
   "metadata": {},
   "source": [
    "list concatenation operator is '+',list replication operator '*'"
   ]
  },
  {
   "cell_type": "code",
   "execution_count": 39,
   "id": "fd3ee1c7",
   "metadata": {},
   "outputs": [
    {
     "data": {
      "text/plain": [
       "[1, 2, 2, 5]"
      ]
     },
     "execution_count": 39,
     "metadata": {},
     "output_type": "execute_result"
    }
   ],
   "source": [
    "l=[1,2]#list concatenation\n",
    "l1=[2,5]\n",
    "l2=l+l1\n",
    "l2"
   ]
  },
  {
   "cell_type": "code",
   "execution_count": 40,
   "id": "69a87a7a",
   "metadata": {},
   "outputs": [
    {
     "data": {
      "text/plain": [
       "[1, 2, 1, 2]"
      ]
     },
     "execution_count": 40,
     "metadata": {},
     "output_type": "execute_result"
    }
   ],
   "source": [
    "l=[1,2]\n",
    "l*2"
   ]
  },
  {
   "cell_type": "markdown",
   "id": "ff27b275",
   "metadata": {},
   "source": [
    "10. What is difference between the list methods append() and insert()?"
   ]
  },
  {
   "cell_type": "code",
   "execution_count": 55,
   "id": "25449b12",
   "metadata": {},
   "outputs": [
    {
     "data": {
      "text/plain": [
       "[3.14, 'cat', 11, 'cat', True, 50]"
      ]
     },
     "execution_count": 55,
     "metadata": {},
     "output_type": "execute_result"
    }
   ],
   "source": [
    "bacon = [3.14,'cat', 11, 'cat', True]\n",
    "bacon.append(50)\n",
    "bacon#It adds the element at the end of the list."
   ]
  },
  {
   "cell_type": "code",
   "execution_count": 56,
   "id": "9e740155",
   "metadata": {},
   "outputs": [
    {
     "data": {
      "text/plain": [
       "[3.14, 'joy', 'cat', 11, 'cat', True]"
      ]
     },
     "execution_count": 56,
     "metadata": {},
     "output_type": "execute_result"
    }
   ],
   "source": [
    "bacon = [3.14,'cat', 11, 'cat', True]\n",
    "bacon.insert(1,'joy')\n",
    "bacon#Allows to add elements at the desired indexes."
   ]
  },
  {
   "cell_type": "markdown",
   "id": "ec40170a",
   "metadata": {},
   "source": [
    "11. What are the two methods for removing items from a list?"
   ]
  },
  {
   "cell_type": "markdown",
   "id": "9e18b968",
   "metadata": {},
   "source": [
    "Two methods for removing the items from the list are:\n",
    "    1)pop().\n",
    "    2)remove()."
   ]
  },
  {
   "cell_type": "code",
   "execution_count": 61,
   "id": "10484ff4",
   "metadata": {},
   "outputs": [
    {
     "data": {
      "text/plain": [
       "3.14"
      ]
     },
     "execution_count": 61,
     "metadata": {},
     "output_type": "execute_result"
    }
   ],
   "source": [
    "bacon = [3.14,'cat', 11, 'cat', True]\n",
    "bacon.pop(0)#it removes the elements with the help of index values."
   ]
  },
  {
   "cell_type": "code",
   "execution_count": 63,
   "id": "86ff11fd",
   "metadata": {},
   "outputs": [
    {
     "data": {
      "text/plain": [
       "[3.14, 11, 'cat', True]"
      ]
     },
     "execution_count": 63,
     "metadata": {},
     "output_type": "execute_result"
    }
   ],
   "source": [
    "bacon = [3.14,'cat', 11, 'cat', True]\n",
    "bacon.remove('cat')#it removes the specified element name.\n",
    "bacon"
   ]
  },
  {
   "cell_type": "markdown",
   "id": "538ed584",
   "metadata": {},
   "source": [
    "12. Describe how list values and string values are identical."
   ]
  },
  {
   "cell_type": "markdown",
   "id": "dfc42445",
   "metadata": {},
   "source": [
    "Both lists and strings are identical\n",
    "* can be passed in len()\n",
    "* have indexes and slices\n",
    "* can be replicated or concatenated "
   ]
  },
  {
   "cell_type": "markdown",
   "id": "b5aa74e8",
   "metadata": {},
   "source": [
    "13. What&#39;s the difference between tuples and lists?"
   ]
  },
  {
   "cell_type": "markdown",
   "id": "b94f5a1e",
   "metadata": {},
   "source": [
    "lists-\n",
    "\n",
    "* lists are mutable,they can be added,removes,replaced,deleted\n",
    "* elements are enclosed with in square brackets []\n",
    "\n",
    "\n",
    "tuples-\n",
    "\n",
    "* Tuples are immutable,they cannot be modified,once they created.\n",
    "* elements are enclosed with in paranthesis()"
   ]
  },
  {
   "cell_type": "markdown",
   "id": "a2354050",
   "metadata": {},
   "source": [
    "14. How do you type a tuple value that only contains the integer 42?"
   ]
  },
  {
   "cell_type": "code",
   "execution_count": 66,
   "id": "c633e5da",
   "metadata": {},
   "outputs": [
    {
     "data": {
      "text/plain": [
       "42"
      ]
     },
     "execution_count": 66,
     "metadata": {},
     "output_type": "execute_result"
    }
   ],
   "source": [
    "tuple = (42)# elements are enclosed with paranthesis\n",
    "tuple"
   ]
  },
  {
   "cell_type": "markdown",
   "id": "8550911f",
   "metadata": {},
   "source": [
    "15. How do you get a list value&#39;s tuple form? How do you get a tuple value&#39;s list form?"
   ]
  },
  {
   "cell_type": "markdown",
   "id": "d714835b",
   "metadata": {},
   "source": [
    "a = ['a','aa']\n",
    "b = tuple(a)\n",
    "print(b)"
   ]
  },
  {
   "cell_type": "code",
   "execution_count": 82,
   "id": "581f009a",
   "metadata": {},
   "outputs": [
    {
     "data": {
      "text/plain": [
       "['aa', 2, 3, 4]"
      ]
     },
     "execution_count": 82,
     "metadata": {},
     "output_type": "execute_result"
    }
   ],
   "source": [
    "a = ('aa',2,3,4)# tuple to list.\n",
    "list(a)"
   ]
  },
  {
   "cell_type": "markdown",
   "id": "bc4d43d4",
   "metadata": {},
   "source": [
    "16. Variables that &quot;contain&quot; list values are not necessarily lists themselves. Instead, what do they\n",
    "contain?"
   ]
  },
  {
   "cell_type": "code",
   "execution_count": 85,
   "id": "8c18008f",
   "metadata": {},
   "outputs": [
    {
     "data": {
      "text/plain": [
       "[2, 3.0, 'hello', (4+3j), {'key': 'value'}, [4, 5, 4]]"
      ]
     },
     "execution_count": 85,
     "metadata": {},
     "output_type": "execute_result"
    }
   ],
   "source": [
    "l1 = [2,3.0,'hello',4+3j,{'key':'value'},[4,5,4]]\n",
    "l1#it can contain any kind of data type."
   ]
  },
  {
   "cell_type": "markdown",
   "id": "a8a6bc94",
   "metadata": {},
   "source": [
    "17. How do you distinguish between copy.copy() and copy.deepcopy()?"
   ]
  },
  {
   "cell_type": "markdown",
   "id": "558aec49",
   "metadata": {},
   "source": [
    "copy.copy()-function will do a shallow copy of a list.\n",
    "copy.deepcopy()-function will do a deep copy of a list."
   ]
  }
 ],
 "metadata": {
  "kernelspec": {
   "display_name": "Python 3 (ipykernel)",
   "language": "python",
   "name": "python3"
  },
  "language_info": {
   "codemirror_mode": {
    "name": "ipython",
    "version": 3
   },
   "file_extension": ".py",
   "mimetype": "text/x-python",
   "name": "python",
   "nbconvert_exporter": "python",
   "pygments_lexer": "ipython3",
   "version": "3.9.12"
  }
 },
 "nbformat": 4,
 "nbformat_minor": 5
}

{
 "cells": [
  {
   "cell_type": "markdown",
   "id": "8d1de729",
   "metadata": {},
   "source": [
    "1. Write a Python program to convert kilometers to miles?\n",
    "\n",
    "   1 kilometer=0.62137119miles"
   ]
  },
  {
   "cell_type": "code",
   "execution_count": 2,
   "id": "48ed53e2",
   "metadata": {},
   "outputs": [
    {
     "name": "stdout",
     "output_type": "stream",
     "text": [
      "Enter Kilometer: 5\n",
      "Miles: 3.10685595\n"
     ]
    }
   ],
   "source": [
    "kilometer=float(input('Enter Kilometer: '))\n",
    "def kilometres_to_miles(kilometer):\n",
    "    return kilometer*0.62137119\n",
    "a=kilometres_to_miles(kilometer)\n",
    "print('Miles:',a)"
   ]
  },
  {
   "cell_type": "markdown",
   "id": "aaa6cfb0",
   "metadata": {},
   "source": [
    "2. Write a Python program to convert Celsius to Fahrenheit?\n",
    "  \n",
    "  1°C=33.8°F"
   ]
  },
  {
   "cell_type": "code",
   "execution_count": 3,
   "id": "e9ec2b92",
   "metadata": {},
   "outputs": [
    {
     "name": "stdout",
     "output_type": "stream",
     "text": [
      "Enter celsius: 2\n",
      "Farenheit: 67.6\n"
     ]
    }
   ],
   "source": [
    "celsius=float(input('Enter celsius: '))\n",
    "def celsius_to_Farenheit(celsius):\n",
    "    return celsius*33.8\n",
    "a=celsius_to_Farenheit(celsius)\n",
    "print('Farenheit:',a)"
   ]
  },
  {
   "cell_type": "markdown",
   "id": "07a7fb30",
   "metadata": {},
   "source": [
    "3. Write a Python program to display calendar?\n"
   ]
  },
  {
   "cell_type": "code",
   "execution_count": 4,
   "id": "9ab9d06f",
   "metadata": {},
   "outputs": [
    {
     "name": "stdout",
     "output_type": "stream",
     "text": [
      "Enter a year: 2022\n",
      "                                  2022\n",
      "\n",
      "      January                   February                   March\n",
      "Mo Tu We Th Fr Sa Su      Mo Tu We Th Fr Sa Su      Mo Tu We Th Fr Sa Su\n",
      "                1  2          1  2  3  4  5  6          1  2  3  4  5  6\n",
      " 3  4  5  6  7  8  9       7  8  9 10 11 12 13       7  8  9 10 11 12 13\n",
      "10 11 12 13 14 15 16      14 15 16 17 18 19 20      14 15 16 17 18 19 20\n",
      "17 18 19 20 21 22 23      21 22 23 24 25 26 27      21 22 23 24 25 26 27\n",
      "24 25 26 27 28 29 30      28                        28 29 30 31\n",
      "31\n",
      "\n",
      "       April                      May                       June\n",
      "Mo Tu We Th Fr Sa Su      Mo Tu We Th Fr Sa Su      Mo Tu We Th Fr Sa Su\n",
      "             1  2  3                         1             1  2  3  4  5\n",
      " 4  5  6  7  8  9 10       2  3  4  5  6  7  8       6  7  8  9 10 11 12\n",
      "11 12 13 14 15 16 17       9 10 11 12 13 14 15      13 14 15 16 17 18 19\n",
      "18 19 20 21 22 23 24      16 17 18 19 20 21 22      20 21 22 23 24 25 26\n",
      "25 26 27 28 29 30         23 24 25 26 27 28 29      27 28 29 30\n",
      "                          30 31\n",
      "\n",
      "        July                     August                  September\n",
      "Mo Tu We Th Fr Sa Su      Mo Tu We Th Fr Sa Su      Mo Tu We Th Fr Sa Su\n",
      "             1  2  3       1  2  3  4  5  6  7                1  2  3  4\n",
      " 4  5  6  7  8  9 10       8  9 10 11 12 13 14       5  6  7  8  9 10 11\n",
      "11 12 13 14 15 16 17      15 16 17 18 19 20 21      12 13 14 15 16 17 18\n",
      "18 19 20 21 22 23 24      22 23 24 25 26 27 28      19 20 21 22 23 24 25\n",
      "25 26 27 28 29 30 31      29 30 31                  26 27 28 29 30\n",
      "\n",
      "      October                   November                  December\n",
      "Mo Tu We Th Fr Sa Su      Mo Tu We Th Fr Sa Su      Mo Tu We Th Fr Sa Su\n",
      "                1  2          1  2  3  4  5  6                1  2  3  4\n",
      " 3  4  5  6  7  8  9       7  8  9 10 11 12 13       5  6  7  8  9 10 11\n",
      "10 11 12 13 14 15 16      14 15 16 17 18 19 20      12 13 14 15 16 17 18\n",
      "17 18 19 20 21 22 23      21 22 23 24 25 26 27      19 20 21 22 23 24 25\n",
      "24 25 26 27 28 29 30      28 29 30                  26 27 28 29 30 31\n",
      "31\n",
      "\n"
     ]
    }
   ],
   "source": [
    "import calendar\n",
    "def newcalendar():\n",
    "    year=int(input('Enter a year: '))\n",
    "    print(calendar.calendar(year))\n",
    "newcalendar()    "
   ]
  },
  {
   "cell_type": "markdown",
   "id": "eaf44260",
   "metadata": {},
   "source": [
    "4. Write a Python program to solve quadratic equation?"
   ]
  },
  {
   "cell_type": "code",
   "execution_count": 5,
   "id": "493dd9fa",
   "metadata": {},
   "outputs": [
    {
     "name": "stdout",
     "output_type": "stream",
     "text": [
      "Enter a number: 2\n",
      "Enter a number: 1\n",
      "Enter a number: 1\n",
      "Roots are Imaginary:  (-0.25-0.6614378277661477j) (-0.25+0.6614378277661477j)\n"
     ]
    }
   ],
   "source": [
    "import math\n",
    "import cmath\n",
    "a=int(input('Enter a number: '))\n",
    "b=int(input('Enter a number: '))\n",
    "c=int(input('Enter a number: '))\n",
    "def quadraticequation(a,b,c):\n",
    "    discriminant=b**2-4*a*c\n",
    "    if discriminant==0:\n",
    "        r1 = -b/2*a\n",
    "        r2 = -b/2*a\n",
    "        print(\"Roots are Real: \",r1,r2)\n",
    "    elif discriminant > 0:\n",
    "        r1 = (-b-math.sqrt(discriminant))/(2 * a)\n",
    "        r2 = (-b+math.sqrt(discriminant))/(2 * a)\n",
    "        print(\"Roots are Real and different: \",r1,r2)\n",
    "    else:\n",
    "        r1 = (-b-cmath.sqrt(discriminant))/(2 * a)\n",
    "        r2 = (-b+cmath.sqrt(discriminant))/(2 * a)\n",
    "        print(\"Roots are Imaginary: \",r1,r2)\n",
    "quadraticequation(a,b,c )       "
   ]
  },
  {
   "cell_type": "markdown",
   "id": "6a4538dc",
   "metadata": {},
   "source": [
    "5. Write a Python program to swap two variables without temp variable?"
   ]
  },
  {
   "cell_type": "code",
   "execution_count": 6,
   "id": "9665d6df",
   "metadata": {},
   "outputs": [
    {
     "name": "stdout",
     "output_type": "stream",
     "text": [
      "Enter a number: 4\n",
      "Enter a number: 5\n",
      "After swap: (5, 4)\n"
     ]
    }
   ],
   "source": [
    "a=int(input('Enter a number: '))\n",
    "b=int(input('Enter a number: '))\n",
    "def variable(a,b):\n",
    "    return b,a\n",
    "a=variable(a,b)\n",
    "print('After swap:',a)"
   ]
  }
 ],
 "metadata": {
  "kernelspec": {
   "display_name": "Python 3 (ipykernel)",
   "language": "python",
   "name": "python3"
  },
  "language_info": {
   "codemirror_mode": {
    "name": "ipython",
    "version": 3
   },
   "file_extension": ".py",
   "mimetype": "text/x-python",
   "name": "python",
   "nbconvert_exporter": "python",
   "pygments_lexer": "ipython3",
   "version": "3.9.12"
  }
 },
 "nbformat": 4,
 "nbformat_minor": 5
}

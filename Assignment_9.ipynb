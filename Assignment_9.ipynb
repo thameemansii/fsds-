{
 "cells": [
  {
   "cell_type": "markdown",
   "id": "5fb5e457",
   "metadata": {},
   "source": [
    "## 1. To what does a relative path refer?"
   ]
  },
  {
   "cell_type": "markdown",
   "id": "16811d3f",
   "metadata": {},
   "source": [
    "A file's in the relative path is its location relative to the current working directory"
   ]
  },
  {
   "cell_type": "markdown",
   "id": "b46d709b",
   "metadata": {},
   "source": [
    "## 2. What does an absolute path start with your operating system?"
   ]
  },
  {
   "cell_type": "markdown",
   "id": "e2683d36",
   "metadata": {},
   "source": [
    "Absolute path starts with \\(backslash)and it describes each step of the path."
   ]
  },
  {
   "cell_type": "markdown",
   "id": "eaaf1c7e",
   "metadata": {},
   "source": [
    "## 3. What do the functions os.getcwd() and os.chdir() do?"
   ]
  },
  {
   "cell_type": "markdown",
   "id": "f9d442e7",
   "metadata": {},
   "source": [
    "os.getcwd() - returns the absolute path of the working directory where Python is currently running as a string str . chdir stabds of \"change directory.\n",
    "\n",
    "\n",
    "os.chdir() - method in Python used to change the current working directory to specified path. It takes only a single argument as new directory path"
   ]
  },
  {
   "cell_type": "markdown",
   "id": "0e509d5d",
   "metadata": {},
   "source": [
    "## 4. What are the . and .. folders?"
   ]
  },
  {
   "cell_type": "markdown",
   "id": "1e547f09",
   "metadata": {},
   "source": [
    ". - It denotes the current working directory.\n",
    ".. - It denotes the parent directory."
   ]
  },
  {
   "cell_type": "markdown",
   "id": "b813113b",
   "metadata": {},
   "source": [
    "## 5. In C:\\bacon\\eggs\\spam.txt, which part is the dir name, and which part is the base name?"
   ]
  },
  {
   "cell_type": "markdown",
   "id": "315d1fbc",
   "metadata": {},
   "source": [
    "Basename is the right most part of the path,base name is spam.txt in the above path.os.path.basename()can be used to extract the base name of the path.\n",
    "\n",
    "\n",
    "dir name is C:\\bacon\\eggs in which the file is located.os.path.dirname() can be used to extract the dir name of the path."
   ]
  },
  {
   "cell_type": "markdown",
   "id": "02f23f73",
   "metadata": {},
   "source": [
    "## 6. What are the three “mode” arguments that can be passed to the open() function?"
   ]
  },
  {
   "cell_type": "markdown",
   "id": "e8d88e14",
   "metadata": {},
   "source": [
    "'r' Open a file for reading.\n",
    "\n",
    "\n",
    "'w' open a file for writing ,create a new file if it doesnt exist or truncates the exist file. \n",
    "\n",
    "\n",
    "'a' Open for appending at the end of the file without truncating it. Creates a new file if it does not exist. '+' Open a file for updating"
   ]
  },
  {
   "cell_type": "markdown",
   "id": "48a8caeb",
   "metadata": {},
   "source": [
    "## 7. What happens if an existing file is opened in write mode?"
   ]
  },
  {
   "cell_type": "markdown",
   "id": "95750cb0",
   "metadata": {},
   "source": [
    "if an existing file is opened in write mode then contents written in past present will overwrite them."
   ]
  },
  {
   "cell_type": "markdown",
   "id": "8f7a72c6",
   "metadata": {},
   "source": [
    "## 8. How do you tell the difference between read() and readlines()?"
   ]
  },
  {
   "cell_type": "markdown",
   "id": "6144d8a8",
   "metadata": {},
   "source": [
    "readlines() - reads the file till the next line.\n",
    "\n",
    "read() - reads the entire file into astring.[Additional argument is there,which allows us to read required no.of.characters ]"
   ]
  },
  {
   "cell_type": "markdown",
   "id": "de518ee4",
   "metadata": {},
   "source": [
    "## 9. What data structure does a shelf value resemble?"
   ]
  },
  {
   "cell_type": "markdown",
   "id": "5ee71526",
   "metadata": {},
   "source": [
    "Shelf value is similar to dictionary.As key,value pair that works similarly to dictionary methods."
   ]
  }
 ],
 "metadata": {
  "kernelspec": {
   "display_name": "Python 3 (ipykernel)",
   "language": "python",
   "name": "python3"
  },
  "language_info": {
   "codemirror_mode": {
    "name": "ipython",
    "version": 3
   },
   "file_extension": ".py",
   "mimetype": "text/x-python",
   "name": "python",
   "nbconvert_exporter": "python",
   "pygments_lexer": "ipython3",
   "version": "3.9.12"
  }
 },
 "nbformat": 4,
 "nbformat_minor": 5
}

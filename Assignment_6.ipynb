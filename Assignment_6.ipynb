{
 "cells": [
  {
   "cell_type": "markdown",
   "id": "718278d5",
   "metadata": {},
   "source": [
    "## 1. What are escape characters, and how do you use them?"
   ]
  },
  {
   "cell_type": "markdown",
   "id": "b353d45b",
   "metadata": {},
   "source": [
    "Escape characters are used between the characters.without invoking its special meaning we insert escape characters."
   ]
  },
  {
   "cell_type": "markdown",
   "id": "3f1f3ce9",
   "metadata": {},
   "source": [
    "Escape Characters are:\n",
    "    \n",
    "\\' - Single Quote\n",
    "\n",
    "\\n - Newline\n",
    "\n",
    "\\t - tab\n",
    "\n",
    "\\r - Carriage return\n",
    "\n",
    "\\b - backspace"
   ]
  },
  {
   "cell_type": "code",
   "execution_count": 9,
   "id": "ec5ceb14",
   "metadata": {},
   "outputs": [
    {
     "name": "stdout",
     "output_type": "stream",
     "text": [
      "we are titan's\n"
     ]
    }
   ],
   "source": [
    "#ex:\n",
    "Kid = 'we are titan\\'s'\n",
    "print(Kid)"
   ]
  },
  {
   "cell_type": "markdown",
   "id": "c6833260",
   "metadata": {},
   "source": [
    "## 2. What do the escape characters n and t stand for?"
   ]
  },
  {
   "cell_type": "markdown",
   "id": "8a832714",
   "metadata": {},
   "source": [
    "\\n - Newline #It splits the word,moves the word to the next line.\n",
    "\n",
    "\\t - tab # It create space between characters.\n"
   ]
  },
  {
   "cell_type": "markdown",
   "id": "5d2757a7",
   "metadata": {},
   "source": [
    "## 3. What is the way to include backslash characters in a string?"
   ]
  },
  {
   "cell_type": "code",
   "execution_count": 16,
   "id": "98e782ff",
   "metadata": {},
   "outputs": [
    {
     "name": "stdout",
     "output_type": "stream",
     "text": [
      "This is the way to include \\ (backslash).\n"
     ]
    }
   ],
   "source": [
    "a=\"This is the way to include \\\\ (backslash).\"\n",
    "print(a)"
   ]
  },
  {
   "cell_type": "markdown",
   "id": "d4a68d6e",
   "metadata": {},
   "source": [
    "## 4. The string &quot;Howl&#39;s Moving Castle&quot; is a correct value. Why isn&#39;t the single quote character in the word Howl&#39;s not escaped a problem?"
   ]
  },
  {
   "cell_type": "code",
   "execution_count": 17,
   "id": "c8742832",
   "metadata": {},
   "outputs": [
    {
     "data": {
      "text/plain": [
       "\"Howl's Moving Castle\""
      ]
     },
     "execution_count": 17,
     "metadata": {},
     "output_type": "execute_result"
    }
   ],
   "source": [
    "s =\"Howl's Moving Castle\"\n",
    "s # Single Quote character inside a str,will not make an issue due its placed under double quotes(\"str\")."
   ]
  },
  {
   "cell_type": "markdown",
   "id": "0aef130b",
   "metadata": {},
   "source": [
    "## 5. How do you write a string of newlines if you don&#39;t want to use the n character?"
   ]
  },
  {
   "cell_type": "code",
   "execution_count": 28,
   "id": "4df3dd83",
   "metadata": {},
   "outputs": [
    {
     "name": "stdout",
     "output_type": "stream",
     "text": [
      "this is a new line\n",
      "hello\n"
     ]
    },
    {
     "data": {
      "text/plain": [
       "(None, None)"
      ]
     },
     "execution_count": 28,
     "metadata": {},
     "output_type": "execute_result"
    }
   ],
   "source": [
    "print(\"this is a new line\",end='\\n'),print('hello')\n",
    "\n"
   ]
  },
  {
   "cell_type": "markdown",
   "id": "3e9c6387",
   "metadata": {},
   "source": [
    "## 6. What are the values of the given expressions?\n",
    "&#39;Hello, world!&#39;[1]\n",
    "&#39;Hello, world!&#39;[0:5]\n",
    "&#39;Hello, world!&#39;[:5]\n",
    "&#39;Hello, world!&#39;[3:]\n"
   ]
  },
  {
   "cell_type": "code",
   "execution_count": 29,
   "id": "1683bb6f",
   "metadata": {},
   "outputs": [
    {
     "data": {
      "text/plain": [
       "'e'"
      ]
     },
     "execution_count": 29,
     "metadata": {},
     "output_type": "execute_result"
    }
   ],
   "source": [
    "'Hello, world!'[1]"
   ]
  },
  {
   "cell_type": "code",
   "execution_count": 30,
   "id": "216c5798",
   "metadata": {},
   "outputs": [
    {
     "data": {
      "text/plain": [
       "'Hello'"
      ]
     },
     "execution_count": 30,
     "metadata": {},
     "output_type": "execute_result"
    }
   ],
   "source": [
    "'Hello, world!'[0:5]"
   ]
  },
  {
   "cell_type": "code",
   "execution_count": 31,
   "id": "1cd83657",
   "metadata": {},
   "outputs": [
    {
     "data": {
      "text/plain": [
       "'Hello'"
      ]
     },
     "execution_count": 31,
     "metadata": {},
     "output_type": "execute_result"
    }
   ],
   "source": [
    "'Hello, world!'[:5] "
   ]
  },
  {
   "cell_type": "code",
   "execution_count": 32,
   "id": "22db9dde",
   "metadata": {},
   "outputs": [
    {
     "data": {
      "text/plain": [
       "'lo, world!'"
      ]
     },
     "execution_count": 32,
     "metadata": {},
     "output_type": "execute_result"
    }
   ],
   "source": [
    " 'Hello, world!'[3:]"
   ]
  },
  {
   "cell_type": "markdown",
   "id": "e123c07f",
   "metadata": {},
   "source": [
    "## 7. What are the values of the following expressions?\n",
    "&#39;Hello&#39;.upper()\n",
    "&#39;Hello&#39;.upper().isupper()\n",
    "&#39;Hello&#39;.upper().lower()"
   ]
  },
  {
   "cell_type": "code",
   "execution_count": 33,
   "id": "4eb29578",
   "metadata": {},
   "outputs": [
    {
     "data": {
      "text/plain": [
       "'HELLO'"
      ]
     },
     "execution_count": 33,
     "metadata": {},
     "output_type": "execute_result"
    }
   ],
   "source": [
    "'Hello'.upper()"
   ]
  },
  {
   "cell_type": "code",
   "execution_count": 34,
   "id": "e6fd9398",
   "metadata": {},
   "outputs": [
    {
     "data": {
      "text/plain": [
       "True"
      ]
     },
     "execution_count": 34,
     "metadata": {},
     "output_type": "execute_result"
    }
   ],
   "source": [
    "'Hello'.upper().isupper()"
   ]
  },
  {
   "cell_type": "code",
   "execution_count": 35,
   "id": "afd4523e",
   "metadata": {},
   "outputs": [
    {
     "data": {
      "text/plain": [
       "'hello'"
      ]
     },
     "execution_count": 35,
     "metadata": {},
     "output_type": "execute_result"
    }
   ],
   "source": [
    "'Hello'.upper().lower()"
   ]
  },
  {
   "cell_type": "markdown",
   "id": "1ff493a4",
   "metadata": {},
   "source": [
    "## 8. What are the values of the following expressions?\n",
    "&#39;Remember, remember, the fifth of July.&#39;.split()\n",
    "&#39;-&#39;.join(&#39;There can only one.&#39;.split())"
   ]
  },
  {
   "cell_type": "code",
   "execution_count": 37,
   "id": "e279257d",
   "metadata": {},
   "outputs": [
    {
     "data": {
      "text/plain": [
       "['Remember,', 'remember,', 'the', 'fifth', 'of', 'July.']"
      ]
     },
     "execution_count": 37,
     "metadata": {},
     "output_type": "execute_result"
    }
   ],
   "source": [
    " 'Remember, remember, the fifth of July.'.split() "
   ]
  },
  {
   "cell_type": "code",
   "execution_count": 40,
   "id": "89de780a",
   "metadata": {},
   "outputs": [
    {
     "data": {
      "text/plain": [
       "'There-can-only-one.'"
      ]
     },
     "execution_count": 40,
     "metadata": {},
     "output_type": "execute_result"
    }
   ],
   "source": [
    "'-'.join('There can only one.'.split())"
   ]
  },
  {
   "cell_type": "markdown",
   "id": "003b0db3",
   "metadata": {},
   "source": [
    "## 9. What are the methods for right-justifying, left-justifying, and centering a string?"
   ]
  },
  {
   "cell_type": "code",
   "execution_count": 45,
   "id": "7e374e06",
   "metadata": {},
   "outputs": [
    {
     "data": {
      "text/plain": [
       "'super man!!!--------'"
      ]
     },
     "execution_count": 45,
     "metadata": {},
     "output_type": "execute_result"
    }
   ],
   "source": [
    "#ljust\n",
    "s = \"super man!!!\"\n",
    "s.ljust(20,'-')"
   ]
  },
  {
   "cell_type": "code",
   "execution_count": 46,
   "id": "a1db6a92",
   "metadata": {},
   "outputs": [
    {
     "data": {
      "text/plain": [
       "'--------super man!!!'"
      ]
     },
     "execution_count": 46,
     "metadata": {},
     "output_type": "execute_result"
    }
   ],
   "source": [
    "#rjust\n",
    "s = \"super man!!!\"\n",
    "s.rjust(20,'-')"
   ]
  },
  {
   "cell_type": "code",
   "execution_count": 48,
   "id": "fc2b4c43",
   "metadata": {},
   "outputs": [
    {
     "data": {
      "text/plain": [
       "'----super man!!!----'"
      ]
     },
     "execution_count": 48,
     "metadata": {},
     "output_type": "execute_result"
    }
   ],
   "source": [
    "#center\n",
    "s = \"super man!!!\"\n",
    "s.center(20,'-')"
   ]
  },
  {
   "cell_type": "markdown",
   "id": "6177ce2f",
   "metadata": {},
   "source": [
    "## 10. What is the best way to remove whitespace characters from the start or end?"
   ]
  },
  {
   "cell_type": "code",
   "execution_count": 51,
   "id": "b6352a35",
   "metadata": {},
   "outputs": [
    {
     "data": {
      "text/plain": [
       "'hello! '"
      ]
     },
     "execution_count": 51,
     "metadata": {},
     "output_type": "execute_result"
    }
   ],
   "source": [
    "r = '  hello! '\n",
    "r.lstrip(' ')"
   ]
  },
  {
   "cell_type": "code",
   "execution_count": 54,
   "id": "324662ad",
   "metadata": {},
   "outputs": [
    {
     "data": {
      "text/plain": [
       "'  hello!'"
      ]
     },
     "execution_count": 54,
     "metadata": {},
     "output_type": "execute_result"
    }
   ],
   "source": [
    "r = '  hello! '\n",
    "r.rstrip(' ')"
   ]
  }
 ],
 "metadata": {
  "kernelspec": {
   "display_name": "Python 3 (ipykernel)",
   "language": "python",
   "name": "python3"
  },
  "language_info": {
   "codemirror_mode": {
    "name": "ipython",
    "version": 3
   },
   "file_extension": ".py",
   "mimetype": "text/x-python",
   "name": "python",
   "nbconvert_exporter": "python",
   "pygments_lexer": "ipython3",
   "version": "3.9.12"
  }
 },
 "nbformat": 4,
 "nbformat_minor": 5
}
